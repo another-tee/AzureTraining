{
 "cells": [
  {
   "cell_type": "markdown",
   "metadata": {},
   "source": [
    "# <center>Import libraries</center>"
   ]
  },
  {
   "cell_type": "code",
   "execution_count": 1,
   "metadata": {},
   "outputs": [],
   "source": [
    "import os\n",
    "import logging\n",
    "from tqdm import tqdm\n",
    "from utils.ssh_utils import SSH\n",
    "from utils.sftp_utils import SFTP\n",
    "from utils.line_utils import send_line_message\n",
    "from utils.json_utils import combine_configs, read_json\n",
    "from utils.pipeline_utils import remote_tensorboard_logdir\n",
    "\n",
    "################################ Logger #######################################\n",
    "ROOT_DIR = os.getcwd()\n",
    "logging.basicConfig(\n",
    "    filename=os.path.join(ROOT_DIR, \"logs\", \"create_delete_logs.log\"),\n",
    "    level=logging.INFO,\n",
    "    format='%(asctime)s + %(levelname)s + %(message)s'\n",
    ")\n",
    "logger = logging.getLogger('create_delete_logger')\n",
    "\n",
    "########################### DO NOT CHANGE #####################################\n",
    "PORT = 22\n",
    "USERNAME = \"your_vm_username\"\n",
    "PASSWORD = \"your_vm_password\"\n",
    "VM_CONFIG_PATH = os.path.join(ROOT_DIR, \"config\", \"vm_config.json\")\n",
    "VM_PUBLIC_IPS_PATH = os.path.join(ROOT_DIR, \"config\", \"vm_public_ips.json\")\n",
    "vm_details_data = combine_configs(VM_CONFIG_PATH, VM_PUBLIC_IPS_PATH)\n",
    "\n",
    "###############################################################################"
   ]
  },
  {
   "cell_type": "markdown",
   "metadata": {},
   "source": [
    "# <center>Terraform</center>"
   ]
  },
  {
   "cell_type": "code",
   "execution_count": null,
   "metadata": {},
   "outputs": [],
   "source": [
    "!terraform -chdir=terraform/ init"
   ]
  },
  {
   "cell_type": "code",
   "execution_count": null,
   "metadata": {},
   "outputs": [],
   "source": [
    "!terraform -chdir=terraform/ plan"
   ]
  },
  {
   "cell_type": "code",
   "execution_count": 2,
   "metadata": {},
   "outputs": [],
   "source": [
    "vm_keys = list(read_json(VM_CONFIG_PATH).get(\"vm_config\", {}).keys())\n",
    "ignore_var = [logger.info(f\"Created VM: {k}\") for k in vm_keys]\n",
    "\n",
    "!terraform -chdir=terraform/ apply -auto-approve"
   ]
  },
  {
   "cell_type": "code",
   "execution_count": null,
   "metadata": {},
   "outputs": [],
   "source": [
    "!terraform -chdir=terraform/ output -json > config/vm_public_ips.json"
   ]
  },
  {
   "cell_type": "markdown",
   "metadata": {},
   "source": [
    "# <center>Python</center>"
   ]
  },
  {
   "cell_type": "markdown",
   "metadata": {},
   "source": [
    "**Files uploading and Model Training**"
   ]
  },
  {
   "cell_type": "code",
   "execution_count": null,
   "metadata": {},
   "outputs": [],
   "source": [
    "# TODO Using threads\n",
    "# Insert you pretrained model's url here!!!\n",
    "pretrained_url = \"http://download.tensorflow.org/models/object_detection/tf2/20200711/ssd_mobilenet_v2_320x320_coco17_tpu-8.tar.gz\"\n",
    "\n",
    "print(100 * \"#\")\n",
    "for vm_key, vm_data in vm_details_data.items():\n",
    "    print(47 * \"#\" + f\" {vm_key} \" + 48 * \"#\")\n",
    "    public_ip = vm_data.get(\"public_ip\", None)\n",
    "    sftp_obj = SFTP(public_ip, PORT, USERNAME, PASSWORD)\n",
    "    vm_name = vm_data.get(\"name\", \"\")\n",
    "    model = vm_data.get(\"model\", \"\")\n",
    "    workspace = vm_data.get(\"workspace\", \"\")\n",
    "    remote_wsp_dir = os.path.join(\n",
    "        f\"/home/{USERNAME}/your_repo\",\n",
    "        model,\n",
    "        \"workspace\",\n",
    "        workspace\n",
    "    )\n",
    "\n",
    "    # Remote\n",
    "    remote_json_dir = os.path.join(remote_wsp_dir, \"json\")\n",
    "    remote_picture_dir = os.path.join(remote_wsp_dir, \"picture\")\n",
    "    remote_labelmap_path = os.path.join(remote_wsp_dir, \"label_map.pbtxt\")\n",
    "    remote_pipeline_path = os.path.join(remote_wsp_dir, \"pipeline.yml\")\n",
    "\n",
    "    # Local\n",
    "    local_wsp_dir = os.path.join(\"workspace\", model, workspace)\n",
    "    local_json_dir = os.path.join(local_wsp_dir, \"json\")\n",
    "    local_picture_dir = os.path.join(local_wsp_dir, \"picture\")\n",
    "    local_labelmap_path = os.path.join(local_wsp_dir, \"label_map.pbtxt\")\n",
    "    local_pipeline_path = os.path.join(local_wsp_dir, \"pipeline.yml\")\n",
    "    local_picture_subdirs = [\n",
    "        i for i in os.listdir(local_picture_dir) \n",
    "        if os.path.isdir(os.path.join(local_picture_dir, i))\n",
    "    ]\n",
    "\n",
    "    # Dataset Upload\n",
    "    ssh_obj = SSH(public_ip, PORT, USERNAME, PASSWORD)\n",
    "    ssh_obj.exec(f\"mkdir -p {remote_wsp_dir}\")\n",
    "    print(\"Uploading labelmap and pipeline files ...\")\n",
    "    sftp_obj.putfile(\n",
    "        local_labelmap_path, \n",
    "        os.path.join(remote_wsp_dir, \"label_map.pbtxt\")\n",
    "    )\n",
    "\n",
    "    sftp_obj.putfile(\n",
    "        local_pipeline_path, \n",
    "        os.path.join(remote_wsp_dir, \"pipeline.yml\")\n",
    "    )\n",
    "\n",
    "    ssh_obj.exec(f\"mkdir -p {remote_json_dir}\")\n",
    "    print(\"Uploading jsonfiles ...\")\n",
    "    for jsonfilename in tqdm(os.listdir(local_json_dir)):\n",
    "        local_jsonfilepath = os.path.join(local_json_dir, jsonfilename)\n",
    "        remote_jsonfilepath = os.path.join(remote_json_dir, jsonfilename)\n",
    "        sftp_obj.putfile(local_jsonfilepath, remote_jsonfilepath)\n",
    "    \n",
    "    print(\"Uploading image files ...\")\n",
    "    for img_subdir in local_picture_subdirs:\n",
    "        remote_picture_subdir = os.path.join(remote_picture_dir, img_subdir)\n",
    "        local_picture_subdir = os.path.join(local_picture_dir, img_subdir)\n",
    "        ssh_obj.exec(f\"mkdir -p {remote_picture_subdir}\")\n",
    "        for imgfilename in tqdm(os.listdir(local_picture_subdir)):\n",
    "            local_imgfilepath = os.path.join(local_picture_subdir, imgfilename)\n",
    "            remote_imgfilepath = os.path.join(\n",
    "                remote_picture_subdir, imgfilename\n",
    "            )\n",
    "            sftp_obj.putfile(local_imgfilepath, remote_imgfilepath)\n",
    "\n",
    "    # Download example model\n",
    "    print(\"Downloading pretrained model ...\")\n",
    "    if model == \"detection\":\n",
    "        ssh_obj.exec(f\"\"\"\n",
    "            cd your_repo/detection/pretrained-models && \\\n",
    "            wget {pretrained_url} && \\\n",
    "            tar -xzvf {pretrained_url.split(\"/\")[-1]} && \\\n",
    "            rm {pretrained_url.split(\"/\")[-1]}*\"\"\"\n",
    "        )\n",
    "\n",
    "    # Train model\n",
    "    print(\"Training model ...\")\n",
    "    ssh_obj.exec(\n",
    "        f\"\"\"docker exec \\\n",
    "            --detach \\\n",
    "            trainer sh -c \\\n",
    "            'cd {model} && \\\n",
    "            python3 train_{model}.py -w {workspace}'\"\"\"\n",
    "    )\n",
    "\n",
    "    # Expose tensorboard\n",
    "    print(\"Exposing TensorBoard ...\")\n",
    "    tboard_logdir = remote_tensorboard_logdir(workspace, model)\n",
    "    ssh_obj.exec(\n",
    "        f\"\"\"docker run \\\n",
    "        --name watcher \\\n",
    "        --rm \\\n",
    "        --detach \\\n",
    "        -p 9999:9999 \\\n",
    "        -v /home/your_vm_name/your_repo:/your_working_space_in_container \\\n",
    "        your_container_image:your_container_tag \\\n",
    "        tensorboard --logdir={tboard_logdir} --host=0.0.0.0 --port=9999\n",
    "        \"\"\"\n",
    "    )\n",
    "\n",
    "    # Line alert\n",
    "    send_line_message(f\"{str(model).capitalize()} training job on VM is now running:\\n - VM key: {vm_key}\\n - VM name: {vm_name}\\n - Workspace: {workspace}\\n - Jupyter server: http://{public_ip}:8888/\\n - TensorBoard: http://{public_ip}:9999/\")\n",
    "    \n",
    "    ssh_obj.close()\n",
    "    sftp_obj.close()\n",
    "\n",
    "    print(100 * \"#\")"
   ]
  },
  {
   "cell_type": "markdown",
   "metadata": {},
   "source": [
    "**Destroy all VMs (Uncomment the below cell)**"
   ]
  },
  {
   "cell_type": "code",
   "execution_count": null,
   "metadata": {},
   "outputs": [],
   "source": [
    "# !terraform -chdir=terraform/ destroy -auto-approve"
   ]
  }
 ],
 "metadata": {
  "kernelspec": {
   "display_name": "azure-vm",
   "language": "python",
   "name": "python3"
  },
  "language_info": {
   "codemirror_mode": {
    "name": "ipython",
    "version": 3
   },
   "file_extension": ".py",
   "mimetype": "text/x-python",
   "name": "python",
   "nbconvert_exporter": "python",
   "pygments_lexer": "ipython3",
   "version": "3.9.18"
  }
 },
 "nbformat": 4,
 "nbformat_minor": 2
}
